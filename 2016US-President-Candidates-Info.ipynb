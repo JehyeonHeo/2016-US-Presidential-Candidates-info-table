{
 "cells": [
  {
   "cell_type": "code",
   "execution_count": 2,
   "metadata": {
    "collapsed": true
   },
   "outputs": [],
   "source": [
    "import pandas as pd"
   ]
  },
  {
   "cell_type": "code",
   "execution_count": 1,
   "metadata": {
    "collapsed": true
   },
   "outputs": [],
   "source": [
    "c1 = ['male', 'Republican', '190.5', '71']\n",
    "c2 = ['female', 'Demogratic', '170.2', '69']\n",
    "c3 = ['male', 'Libertarian', '', '64']\n",
    "c4 = ['male', 'Republican', '177.8', '46']\n",
    "c5 = ['male', 'Democratic', '172.7', '76']\n",
    "c6 = ['male', 'Republican', '180.3', '66']\n",
    "c7 = ['male', 'Republican', '177.8', '46']\n",
    "c8 = ['male', 'Republican', '190.5', '64']\n",
    "c9 = ['male', 'Republican', '172.8', '54']\n",
    "c10 = ['female', 'Republican', '167.6', '63']\n",
    "c11 = ['male', 'Republican', '182.9', '65']\n",
    "c12 = ['male', 'Republican', '180.3', '62']\n",
    "c13 =['male', 'Republican', '186', '67']\n",
    "c14 = ['male', 'Republican', '175.3', '49']\n",
    "c15 = ['female', 'Green', '167.6', '67']\n",
    "c16 = ['male', 'Republican', '190.5', '59']\n",
    "c17 = ['male', 'Democratic', '185.4', '54']\n",
    "c18 = ['male', 'Republican', '180.3', '55']\n",
    "c19 = ['male', 'Independent', '177.8', '41']\n",
    "c20 = ['male', 'Republican', '170.2', '62']\n",
    "c21 = ['male', 'Democratic', '', '71']\n",
    "c22 = ['male', 'Republican', '177.8', '46']\n",
    "c23 = ['male', 'Democratic', '', '71']\n",
    "c24 = ['male', 'Republican', '195.6', '72']\n",
    "c25 = ['male', 'Republican', '', '68']"
   ]
  },
  {
   "cell_type": "code",
   "execution_count": 3,
   "metadata": {
    "collapsed": true
   },
   "outputs": [],
   "source": [
    "indices = [\"Trump, Donald J.\", \n",
    "           \"Clinton, Hillary Rodham\", \n",
    "           \"Johnson, Gary\", \n",
    "           \"Cruz, Rafael Edward 'Ted'\", \n",
    "           \"Sanders, Bernard\", \n",
    "           \"Carson, Benjamin S.\",\n",
    "           \"Rubio, Marco\",\n",
    "           \"Bush, Jeb\", \n",
    "           \"Paul, Rand\",\n",
    "           \"Fiorina, Carly\",\n",
    "           \"Kasich, John R.\", \n",
    "           \"Huckabee, Mike\",\n",
    "           \"Perry, James R. (Rick)\", \n",
    "           \"Walker, Scott\",\n",
    "           \"Stein, Jill\",\n",
    "           \"Santorum, Richard J.\",\n",
    "           \"O'Malley, Martin Joseph\",\n",
    "           \"Christie, Christopher J.\",\n",
    "           \"McMullin, Evan\",\n",
    "           \"Graham, Lindsey O.\",\n",
    "           \"Webb, James Henry Jr.\",\n",
    "           \"Jindal, Bobby\",\n",
    "           \"Lessig, Lawrence\",\n",
    "           \"Pataki, George E.\", \n",
    "           \"Gilmore, James S III\"]"
   ]
  }
 ],
 "metadata": {
  "kernelspec": {
   "display_name": "Python 3",
   "language": "python",
   "name": "python3"
  },
  "language_info": {
   "codemirror_mode": {
    "name": "ipython",
    "version": 3
   },
   "file_extension": ".py",
   "mimetype": "text/x-python",
   "name": "python",
   "nbconvert_exporter": "python",
   "pygments_lexer": "ipython3",
   "version": "3.6.2"
  }
 },
 "nbformat": 4,
 "nbformat_minor": 2
}
