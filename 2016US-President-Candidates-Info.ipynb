{
 "cells": [
  {
   "cell_type": "code",
   "execution_count": 2,
   "metadata": {
    "collapsed": true
   },
   "outputs": [],
   "source": [
    "import pandas as pd"
   ]
  },
  {
   "cell_type": "code",
   "execution_count": 1,
   "metadata": {
    "collapsed": true
   },
   "outputs": [],
   "source": [
    "trump = ['male', 'Republican', '190.5', '71']\n",
    "hillary = ['female', 'Demogratic', '170.2', '69']\n",
    "johnson = ['male', 'Libertarian', '', '64']\n",
    "cruz = ['male', 'Republican', '177.8', '46']\n",
    "sanders = ['male', 'Democratic', '172.7', '76']\n",
    "carson = ['male', 'Republican', '180.3', '66']\n",
    "rubio = ['male', 'Republican', '177.8', '46']\n",
    "bush = ['male', 'Republican', '190.5', '64']\n",
    "paul = ['male', 'Republican', '172.8', '54']\n",
    "fiorina = ['female', 'Republican', '167.6', '63']\n",
    "kasich = ['male', 'Republican', '182.9', '65']\n",
    "huckabee = ['male', 'Republican', '180.3', '62']\n",
    "perry =['male', 'Republican', '186', '67']\n",
    "walker = ['male', 'Republican', '175.3', '49']\n",
    "stein = ['female', 'Green', '167.6', '67']\n",
    "santorum = ['male', 'Republican', '190.5', '59']\n",
    "omalley = ['male', 'Democratic', '185.4', '54']\n",
    "christie = ['male', 'Republican', '180.3', '55']\n",
    "mcmullin = ['male', 'Independent', '177.8', '41']\n",
    "graham = ['male', 'Republican', '170.2', '62']\n",
    "webb = ['male', 'Democratic', '', '71']\n",
    "jindal = ['male', 'Republican', '177.8', '46']\n",
    "lessig = ['male', 'Democratic', '', '71']\n",
    "pataki = ['male', 'Republican', '195.6', '72']\n",
    "gilmore = ['male', 'Republican', '', '68']"
   ]
  },
  {
   "cell_type": "code",
   "execution_count": 3,
   "metadata": {
    "collapsed": true
   },
   "outputs": [],
   "source": [
    "indices = [\"Trump, Donald J.\", \n",
    "           \"Clinton, Hillary Rodham\", \n",
    "           \"Johnson, Gary\", \n",
    "           \"Cruz, Rafael Edward 'Ted'\", \n",
    "           \"Sanders, Bernard\", \n",
    "           \"Carson, Benjamin S.\",\n",
    "           \"Rubio, Marco\",\n",
    "           \"Bush, Jeb\", \n",
    "           \"Paul, Rand\",\n",
    "           \"Fiorina, Carly\",\n",
    "           \"Kasich, John R.\", \n",
    "           \"Huckabee, Mike\",\n",
    "           \"Perry, James R. (Rick)\", \n",
    "           \"Walker, Scott\",\n",
    "           \"Stein, Jill\",\n",
    "           \"Santorum, Richard J.\",\n",
    "           \"O'Malley, Martin Joseph\",\n",
    "           \"Christie, Christopher J.\",\n",
    "           \"McMullin, Evan\",\n",
    "           \"Graham, Lindsey O.\",\n",
    "           \"Webb, James Henry Jr.\",\n",
    "           \"Jindal, Bobby\",\n",
    "           \"Lessig, Lawrence\",\n",
    "           \"Pataki, George E.\", \n",
    "           \"Gilmore, James S III\"]"
   ]
  }
 ],
 "metadata": {
  "kernelspec": {
   "display_name": "Python 3",
   "language": "python",
   "name": "python3"
  },
  "language_info": {
   "codemirror_mode": {
    "name": "ipython",
    "version": 3
   },
   "file_extension": ".py",
   "mimetype": "text/x-python",
   "name": "python",
   "nbconvert_exporter": "python",
   "pygments_lexer": "ipython3",
   "version": "3.6.2"
  }
 },
 "nbformat": 4,
 "nbformat_minor": 2
}
